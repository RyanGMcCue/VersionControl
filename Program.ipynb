{
 "cells": [
  {
   "cell_type": "code",
   "execution_count": 5,
   "id": "4fcc0de1-8eb7-4867-9d49-8f433aabbb3f",
   "metadata": {},
   "outputs": [
    {
     "name": "stdin",
     "output_type": "stream",
     "text": [
      "What is your name? Ryan\n",
      "Enter a number:  5\n"
     ]
    },
    {
     "name": "stdout",
     "output_type": "stream",
     "text": [
      "Ryan\n",
      "Ryan\n",
      "Ryan\n",
      "Ryan\n",
      "Ryan\n"
     ]
    }
   ],
   "source": [
    "name = input(\"What is your name?\")\n",
    "num = int(input(\"Enter a number: \"))\n",
    "for i in range (num):\n",
    "    print(name)"
   ]
  },
  {
   "cell_type": "code",
   "execution_count": null,
   "id": "33024e5d-d3be-4329-aae3-8f7b83604f65",
   "metadata": {},
   "outputs": [],
   "source": []
  }
 ],
 "metadata": {
  "kernelspec": {
   "display_name": "Python 3 (ipykernel)",
   "language": "python",
   "name": "python3"
  },
  "language_info": {
   "codemirror_mode": {
    "name": "ipython",
    "version": 3
   },
   "file_extension": ".py",
   "mimetype": "text/x-python",
   "name": "python",
   "nbconvert_exporter": "python",
   "pygments_lexer": "ipython3",
   "version": "3.11.13"
  }
 },
 "nbformat": 4,
 "nbformat_minor": 5
}
